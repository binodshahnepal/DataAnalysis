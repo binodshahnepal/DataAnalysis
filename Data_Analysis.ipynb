{
  "nbformat": 4,
  "nbformat_minor": 0,
  "metadata": {
    "colab": {
      "provenance": [],
      "authorship_tag": "ABX9TyOddl0L9IriGe+qmlnnc8eZ",
      "include_colab_link": true
    },
    "kernelspec": {
      "name": "python3",
      "display_name": "Python 3"
    },
    "language_info": {
      "name": "python"
    }
  },
  "cells": [
    {
      "cell_type": "markdown",
      "metadata": {
        "id": "view-in-github",
        "colab_type": "text"
      },
      "source": [
        "<a href=\"https://colab.research.google.com/github/binodshahnepal/DataAnalysis/blob/main/Data_Analysis.ipynb\" target=\"_parent\"><img src=\"https://colab.research.google.com/assets/colab-badge.svg\" alt=\"Open In Colab\"/></a>"
      ]
    },
    {
      "cell_type": "markdown",
      "source": [
        "### **From First Dataset**\n",
        "\n",
        "What is the average price of laptops by each brand?\n",
        "\n",
        "Which brand has the highest average spec rating?\n",
        "\n",
        "List all laptops with more than 8GB RAM and SSD-type ROM.\n",
        "\n",
        "What is the most common processor across all laptops?\n",
        "\n",
        "Which OS is most frequently used among all laptops?\n",
        "\n",
        "What is the correlation between price and spec_rating?\n",
        "\n",
        "Which GPU type is most associated with gaming laptops (spec_rating > 70)?\n",
        "\n",
        "What are the top 5 most expensive laptops in the dataset?\n",
        "\n",
        "Count how many laptops have a display resolution of 1920x1080.\n",
        "\n",
        "Which RAM type is most popular among laptops?\n",
        "\n",
        "### **From Second Dataset**\n",
        "\n",
        "What is the most common screen resolution type among all laptops?\n",
        "\n",
        "Compute the average price per laptop brand.\n",
        "\n",
        "Identify the distribution of RAM size across the dataset.\n",
        "\n",
        "Which operating system has the highest average laptop price?\n",
        "\n",
        "Find the top 5 lightest laptops based on weight.\n",
        "\n",
        "Which CPU appears most frequently in the dataset?\n",
        "\n",
        "Analyze the relationship between RAM size and Price.\n",
        "\n",
        "How many laptops have both SSD storage and more than 8GB RAM?\n",
        "\n",
        "List all laptops that use AMD GPUs.\n",
        "\n",
        "Determine which company has the widest variety of laptop types.\n",
        "\n",
        "### **From Third Dataset**\n",
        "\n",
        "What is the average selling price for each product type?\n",
        "\n",
        "Find the top 3 brands with the highest quantity sold overall.\n",
        "\n",
        "Identify regions with highest total revenue generated.\n",
        "\n",
        "How many products were sold in each quarter of 2023?\n",
        "\n",
        "Find products that have more than 1TB SSD and are laptops.\n",
        "\n",
        "Which customers have purchased more than 2 products?\n",
        "\n",
        "What is the average dispatch delay (Dispatch Date - Inward Date)?\n",
        "\n",
        "Compare ROM vs SSD combinations across different product types.\n",
        "\n",
        "List the products sold in Central region in 2024.\n",
        "\n",
        "Which processor is most common among sold laptops?"
      ],
      "metadata": {
        "id": "NCTWrjmYjotE"
      }
    },
    {
      "cell_type": "code",
      "execution_count": null,
      "metadata": {
        "id": "zwkgh32GjaHa"
      },
      "outputs": [],
      "source": []
    }
  ]
}